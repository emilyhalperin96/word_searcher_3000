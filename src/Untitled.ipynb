{
 "cells": [
  {
   "cell_type": "markdown",
   "metadata": {},
   "source": [
    "# Currently working for horizontal words but not vertical ones\n",
    "## useage: \n",
    "### word_list = [\"able\",\"about\",\"above\",\"accept\"]\n",
    "### word_list = [Word(_) for _ in word_list]\n",
    "### matrix = render_grid(15)\n",
    "### testGrid = Grid(matrix)\n",
    "### testGrid.add_words(word_list)\n",
    "### print_grid(testGrid.matrix)"
   ]
  },
  {
   "cell_type": "code",
   "execution_count": 70,
   "metadata": {},
   "outputs": [],
   "source": [
    "\n",
    "class Word:\n",
    "    def __init__(self, text):\n",
    "        self.text = text\n",
    "        self.characters = [_ for _ in text]\n",
    "        self.word_length = len(self.characters)\n",
    "\n",
    "\n"
   ]
  },
  {
   "cell_type": "code",
   "execution_count": 78,
   "metadata": {},
   "outputs": [],
   "source": [
    "import random\n",
    "\n",
    "alphabet = \"abcdefghijklmnopqrstuvwxyz\"\n",
    "\n",
    "def move_right(i,j):\n",
    "    return i+1 , j\n",
    "\n",
    "def move_left(i,j):\n",
    "    return i-1 , j\n",
    "\n",
    "def move_up(i,j):\n",
    "    return i , j-1\n",
    "\n",
    "def move_down(i,j):\n",
    "    return i , j+1\n",
    "\n",
    "\n",
    "\n",
    "class Grid:\n",
    "    def __init__(self, dimension):\n",
    "        \n",
    "        self.dimension = dimension\n",
    "        self.matrix = self.render_matrix(self.dimension)\n",
    "        self.coordinates_with_words = []\n",
    "    \n",
    "    def render_matrix(self, dimension):\n",
    "        grid_list = []\n",
    "        for i in range(dimension):\n",
    "            grid_list.append([])\n",
    "            for j in range(dimension):\n",
    "                grid_list[i].append(alphabet[random.randint(0,25)])\n",
    "        return grid_list\n",
    "\n",
    "\n",
    "    \n",
    "    def add_words(self, word_list):\n",
    "        self.word_list = word_list\n",
    "        self.word_check_list = [_.text for _ in word_list]\n",
    "        \n",
    "        for word in word_list:\n",
    "            #pick either veritcal or horizontal as direction the word is rendered in\n",
    "            direction = random.choice(['vertical', 'horizontal', 'diagonal'])\n",
    "            \n",
    "            word.direction = direction\n",
    "            \n",
    "            self.add_word(word)\n",
    "\n",
    "        return self.matrix\n",
    "    \n",
    "    \n",
    "    \n",
    "    def add_word(self, word):\n",
    "        #find dimensions for where you can start the word\n",
    "        #so we will need:\n",
    "        #        - length of word\n",
    "        #        - length of row/column (we are assumign square word searches)\n",
    "        word.coordinates = []\n",
    "        \n",
    "        \n",
    "        overlap = True\n",
    "        \n",
    "        while overlap:\n",
    "            (i,j), overlap = self.get_new_starting_coordinates_and_check(word)\n",
    "            \n",
    "        #check if the \n",
    "        \n",
    "        \n",
    "        if word.direction == 'horizontal':\n",
    "            for character in word.characters:\n",
    "                self.matrix[i][j] = character\n",
    "                word.coordinates.append((i,j))\n",
    "                self.coordinates_with_words.append((i,j))\n",
    "                \n",
    "                i,j = move_down(i,j)\n",
    "\n",
    "        if word.direction == 'diagonal':\n",
    "            for character in word.characters:\n",
    "                self.matrix[i][j] = character\n",
    "                word.coordinates.append((i,j))\n",
    "                self.coordinates_with_words.append((i,j))\n",
    "                \n",
    "                i,j = move_right(move_down(i,j))\n",
    "\n",
    "\n",
    "\n",
    "                \n",
    "                \n",
    "        elif word.direction == 'vertical':\n",
    "            for character in word.characters:\n",
    "                self.matrix[i][j] = character\n",
    "                word.coordinates.append((i,j))\n",
    "                self.coordinates_with_words.append((i,j))\n",
    "                i,j = move_right(i,j)\n",
    "\n",
    "\n",
    "    \n",
    "    def get_starting_coords(self, word):\n",
    "        i = random.choice(range(0,len(self.matrix) - len(word.characters)))\n",
    "        j = random.choice(range(0,len(self.matrix) - len(word.characters)))\n",
    "        return i , j\n",
    "\n",
    "    def project_coordinates(self, starting_point, word):\n",
    "        i,j = starting_point\n",
    "        list_of_coordinates = []\n",
    "        list_of_coordinates.append((i,j))\n",
    "        \n",
    "        if word.direction == 'horizontal':\n",
    "            for character in word.characters:\n",
    "                i,j = move_down(i,j)\n",
    "                list_of_coordinates.append((i,j))\n",
    "        \n",
    "        if word.direction == 'diagonal':\n",
    "            for character in word.characters:\n",
    "                i,j = move_right(move_down(i,j))\n",
    "                list_of_coordinates.append((i,j))\n",
    "\n",
    "\n",
    "\n",
    "        elif word.direction == 'vertical':\n",
    "            for character in word.characters:\n",
    "                i,j = move_right(i,j)\n",
    "                list_of_coordinates.append((i,j))\n",
    "        \n",
    "        return any(x in list_of_coordinates for x in self.coordinates_with_words)\n",
    "\n",
    "    def get_new_starting_coordinates_and_check(self, word):\n",
    "        i, j  = self.get_starting_coords(word)\n",
    "        overlap = self.project_coordinates((i,j), word)\n",
    "        \n",
    "        return (i,j) , overlap\n",
    "        \n",
    "        \n"
   ]
  },
  {
   "cell_type": "code",
   "execution_count": 120,
   "metadata": {},
   "outputs": [
    {
     "data": {
      "text/plain": [
       "[['d', 'a', 'l', 'q', 'p', 'k', 'g', 'm', 'l', 'y', 'n', 'g', 'u', 'h', 'k'],\n",
       " ['t', 'c', 'a', 'b', 'l', 'e', 'y', 'k', 'z', 'o', 'a', 'g', 'i', 'j', 'h'],\n",
       " ['j', 'c', 'z', 'a', 'b', 'o', 'u', 't', 'f', 's', 't', 'a', 'd', 'k', 'y'],\n",
       " ['j', 'e', 'g', 'x', 'n', 's', 'q', 'm', 'o', 'k', 'r', 'g', 't', 'm', 'z'],\n",
       " ['i', 'p', 'p', 'l', 'x', 'j', 'j', 'l', 'a', 'w', 'g', 'l', 'l', 'v', 'z'],\n",
       " ['v', 't', 'u', 'x', 'o', 'd', 's', 'f', 'k', 'a', 'u', 'b', 'z', 'w', 'k'],\n",
       " ['k', 'j', 'v', 'x', 'o', 'o', 'h', 'k', 'y', 'x', 'a', 'm', 'x', 't', 'p'],\n",
       " ['g', 'r', 'a', 'b', 'o', 'v', 'e', 'x', 'c', 'f', 'f', 'f', 'f', 'z', 'u'],\n",
       " ['g', 't', 'x', 'u', 'v', 't', 'n', 'p', 'n', 'u', 'u', 'f', 'h', 'x', 't'],\n",
       " ['h', 'f', 'z', 'b', 'j', 'm', 'b', 'h', 'l', 'h', 'p', 'm', 'e', 'p', 'l'],\n",
       " ['n', 'j', 'j', 'd', 'g', 'h', 's', 'a', 'w', 'l', 'j', 'j', 'q', 'y', 'b'],\n",
       " ['z', 'a', 's', 'q', 'f', 't', 'q', 'q', 'v', 'z', 'n', 'z', 'm', 'y', 'm'],\n",
       " ['f', 'x', 'o', 'o', 'l', 'b', 'q', 'b', 'z', 'x', 'b', 'x', 'v', 't', 'r'],\n",
       " ['u', 'x', 'w', 'd', 'i', 'n', 'a', 'g', 'b', 'z', 'w', 'z', 'n', 'x', 's'],\n",
       " ['m', 'u', 'w', 't', 'c', 'c', 'f', 'a', 'x', 'c', 'p', 'r', 'j', 'y', 'u']]"
      ]
     },
     "execution_count": 120,
     "metadata": {},
     "output_type": "execute_result"
    }
   ],
   "source": [
    "\n",
    "    ###################################\n",
    "    # The below two lines are inplace of SQL input\n",
    "    #####################################\n",
    "    word_list = [\"able\",\"about\",\"above\",\"accept\"]\n",
    "    text_word_list = [\"able\",\"about\",\"above\",\"accept\"]\n",
    "    word_list = [Word(_) for _ in word_list]\n",
    "    #geting the grid to actually initialize\n",
    "    testGrid = Grid(15)\n",
    "\n",
    "    testGrid.add_words(word_list)\n",
    "    \n",
    "    #present table\n",
    "    "
   ]
  },
  {
   "cell_type": "code",
   "execution_count": 121,
   "metadata": {},
   "outputs": [
    {
     "data": {
      "text/plain": [
       "[['able', 'horizontal', [(1, 2), (1, 3), (1, 4), (1, 5)]],\n",
       " ['about', 'horizontal', [(2, 3), (2, 4), (2, 5), (2, 6), (2, 7)]],\n",
       " ['above', 'horizontal', [(7, 2), (7, 3), (7, 4), (7, 5), (7, 6)]],\n",
       " ['accept', 'vertical', [(0, 1), (1, 1), (2, 1), (3, 1), (4, 1), (5, 1)]]]"
      ]
     },
     "execution_count": 121,
     "metadata": {},
     "output_type": "execute_result"
    }
   ],
   "source": [
    "[[_.text, _.direction, _.coordinates]  for _ in testGrid.word_list]"
   ]
  },
  {
   "cell_type": "code",
   "execution_count": 122,
   "metadata": {},
   "outputs": [],
   "source": [
    "\n",
    "start_color_regex = Fore.RED\n",
    "end_color_regex = Fore.BLACK\n",
    "\n",
    "for each_word in testGrid.word_list:\n",
    "    for i,j in each_word.coordinates:\n",
    "        testGrid.matrix[i][j] = f\"{start_color_regex}{testGrid.matrix[i][j]}{end_color_regex}\""
   ]
  },
  {
   "cell_type": "code",
   "execution_count": 123,
   "metadata": {},
   "outputs": [
    {
     "name": "stdout",
     "output_type": "stream",
     "text": [
      "┌────────────────────┐\n",
      "│ Word Searcher 3000 │\n",
      "└────────────────────┘\n",
      "\n",
      "  d  \u001b[31ma\u001b[30m  l  q  p  k  g  m  l  y  n  g  u  h  k\n",
      "  t  \u001b[31mc\u001b[30m  \u001b[31ma\u001b[30m  \u001b[31mb\u001b[30m  \u001b[31ml\u001b[30m  \u001b[31me\u001b[30m  y  k  z  o  a  g  i  j  h\n",
      "  j  \u001b[31mc\u001b[30m  z  \u001b[31ma\u001b[30m  \u001b[31mb\u001b[30m  \u001b[31mo\u001b[30m  \u001b[31mu\u001b[30m  \u001b[31mt\u001b[30m  f  s  t  a  d  k  y\n",
      "  j  \u001b[31me\u001b[30m  g  x  n  s  q  m  o  k  r  g  t  m  z\n",
      "  i  \u001b[31mp\u001b[30m  p  l  x  j  j  l  a  w  g  l  l  v  z\n",
      "  v  \u001b[31mt\u001b[30m  u  x  o  d  s  f  k  a  u  b  z  w  k\n",
      "  k  j  v  x  o  o  h  k  y  x  a  m  x  t  p\n",
      "  g  r  \u001b[31ma\u001b[30m  \u001b[31mb\u001b[30m  \u001b[31mo\u001b[30m  \u001b[31mv\u001b[30m  \u001b[31me\u001b[30m  x  c  f  f  f  f  z  u\n",
      "  g  t  x  u  v  t  n  p  n  u  u  f  h  x  t\n",
      "  h  f  z  b  j  m  b  h  l  h  p  m  e  p  l\n",
      "  n  j  j  d  g  h  s  a  w  l  j  j  q  y  b\n",
      "  z  a  s  q  f  t  q  q  v  z  n  z  m  y  m\n",
      "  f  x  o  o  l  b  q  b  z  x  b  x  v  t  r\n",
      "  u  x  w  d  i  n  a  g  b  z  w  z  n  x  s\n",
      "  m  u  w  t  c  c  f  a  x  c  p  r  j  y  u\n"
     ]
    },
    {
     "data": {
      "text/plain": [
       "'d\\x1b[31ma\\x1b[30mlqpkgmlynguhkt\\x1b[31mc\\x1b[30m\\x1b[31ma\\x1b[30m\\x1b[31mb\\x1b[30m\\x1b[31ml\\x1b[30m\\x1b[31me\\x1b[30mykzoagijhj\\x1b[31mc\\x1b[30mz\\x1b[31ma\\x1b[30m\\x1b[31mb\\x1b[30m\\x1b[31mo\\x1b[30m\\x1b[31mu\\x1b[30m\\x1b[31mt\\x1b[30mfstadkyj\\x1b[31me\\x1b[30mgxnsqmokrgtmzi\\x1b[31mp\\x1b[30mplxjjlawgllvzv\\x1b[31mt\\x1b[30muxodsfkaubzwkkjvxoohkyxamxtpgr\\x1b[31ma\\x1b[30m\\x1b[31mb\\x1b[30m\\x1b[31mo\\x1b[30m\\x1b[31mv\\x1b[30m\\x1b[31me\\x1b[30mxcffffzugtxuvtnpnuufhxthfzbjmbhlhpmeplnjjdghsawljjqybzasqftqqvznzmymfxoolbqbzxbxvtruxwdinagbzwznxsmuwtccfaxcprjyu'"
      ]
     },
     "execution_count": 123,
     "metadata": {},
     "output_type": "execute_result"
    }
   ],
   "source": [
    "print_grid(testGrid.matrix)"
   ]
  },
  {
   "cell_type": "code",
   "execution_count": 109,
   "metadata": {},
   "outputs": [],
   "source": [
    "import colorama\n",
    "from colorama import Fore"
   ]
  },
  {
   "cell_type": "code",
   "execution_count": null,
   "metadata": {},
   "outputs": [],
   "source": []
  }
 ],
 "metadata": {
  "kernelspec": {
   "display_name": "Python 3",
   "language": "python",
   "name": "python3"
  },
  "language_info": {
   "codemirror_mode": {
    "name": "ipython",
    "version": 3
   },
   "file_extension": ".py",
   "mimetype": "text/x-python",
   "name": "python",
   "nbconvert_exporter": "python",
   "pygments_lexer": "ipython3",
   "version": "3.6.9"
  },
  "varInspector": {
   "cols": {
    "lenName": 16,
    "lenType": 16,
    "lenVar": 40
   },
   "kernels_config": {
    "python": {
     "delete_cmd_postfix": "",
     "delete_cmd_prefix": "del ",
     "library": "var_list.py",
     "varRefreshCmd": "print(var_dic_list())"
    },
    "r": {
     "delete_cmd_postfix": ") ",
     "delete_cmd_prefix": "rm(",
     "library": "var_list.r",
     "varRefreshCmd": "cat(var_dic_list()) "
    }
   },
   "types_to_exclude": [
    "module",
    "function",
    "builtin_function_or_method",
    "instance",
    "_Feature"
   ],
   "window_display": false
  },
  "vscode": {
   "interpreter": {
    "hash": "68ee26033052e07873ef8b1ab159894830f107279e71f5b17e2be0e4618a630d"
   }
  }
 },
 "nbformat": 4,
 "nbformat_minor": 2
}
